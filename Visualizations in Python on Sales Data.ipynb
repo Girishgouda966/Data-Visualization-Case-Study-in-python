{
 "cells": [
  {
   "cell_type": "code",
   "execution_count": 27,
   "id": "116f7b02",
   "metadata": {},
   "outputs": [],
   "source": [
    "import numpy as np\n",
    "import pandas as pd\n",
    "import matplotlib.pyplot as plt\n",
    "import seaborn as sns"
   ]
  },
  {
   "cell_type": "code",
   "execution_count": 28,
   "id": "09328ba8",
   "metadata": {},
   "outputs": [
    {
     "data": {
      "text/html": [
       "<div>\n",
       "<style scoped>\n",
       "    .dataframe tbody tr th:only-of-type {\n",
       "        vertical-align: middle;\n",
       "    }\n",
       "\n",
       "    .dataframe tbody tr th {\n",
       "        vertical-align: top;\n",
       "    }\n",
       "\n",
       "    .dataframe thead th {\n",
       "        text-align: right;\n",
       "    }\n",
       "</style>\n",
       "<table border=\"1\" class=\"dataframe\">\n",
       "  <thead>\n",
       "    <tr style=\"text-align: right;\">\n",
       "      <th></th>\n",
       "      <th>AccountId</th>\n",
       "      <th>AccountName</th>\n",
       "      <th>Region</th>\n",
       "      <th>Division</th>\n",
       "      <th>City</th>\n",
       "      <th>State</th>\n",
       "      <th>Tier</th>\n",
       "      <th>Month</th>\n",
       "      <th>Sales2015</th>\n",
       "      <th>Sales2016</th>\n",
       "      <th>Units2015</th>\n",
       "      <th>Units2016</th>\n",
       "      <th>TargetAchevied2015</th>\n",
       "      <th>TargetAchevied2016</th>\n",
       "    </tr>\n",
       "  </thead>\n",
       "  <tbody>\n",
       "    <tr>\n",
       "      <th>0</th>\n",
       "      <td>1116</td>\n",
       "      <td>Account1</td>\n",
       "      <td>West</td>\n",
       "      <td>DIAMONDBACK</td>\n",
       "      <td>PHOENIX W</td>\n",
       "      <td>AZ</td>\n",
       "      <td>Low</td>\n",
       "      <td>Aug</td>\n",
       "      <td>0.00</td>\n",
       "      <td>13208.52</td>\n",
       "      <td>0.0</td>\n",
       "      <td>4.0</td>\n",
       "      <td>0.70</td>\n",
       "      <td>1.53</td>\n",
       "    </tr>\n",
       "    <tr>\n",
       "      <th>1</th>\n",
       "      <td>1116</td>\n",
       "      <td>Account1</td>\n",
       "      <td>West</td>\n",
       "      <td>DIAMONDBACK</td>\n",
       "      <td>PHOENIX W</td>\n",
       "      <td>AZ</td>\n",
       "      <td>Low</td>\n",
       "      <td>Oct</td>\n",
       "      <td>10500.78</td>\n",
       "      <td>23114.91</td>\n",
       "      <td>3.0</td>\n",
       "      <td>7.0</td>\n",
       "      <td>0.84</td>\n",
       "      <td>1.31</td>\n",
       "    </tr>\n",
       "    <tr>\n",
       "      <th>2</th>\n",
       "      <td>2391</td>\n",
       "      <td>Account2</td>\n",
       "      <td>East</td>\n",
       "      <td>MINUTEMEN</td>\n",
       "      <td>HARTFORD</td>\n",
       "      <td>CT</td>\n",
       "      <td>Med</td>\n",
       "      <td>Jun</td>\n",
       "      <td>0.00</td>\n",
       "      <td>6627.00</td>\n",
       "      <td>0.0</td>\n",
       "      <td>3.0</td>\n",
       "      <td>1.15</td>\n",
       "      <td>1.29</td>\n",
       "    </tr>\n",
       "    <tr>\n",
       "      <th>3</th>\n",
       "      <td>2391</td>\n",
       "      <td>Account2</td>\n",
       "      <td>East</td>\n",
       "      <td>MINUTEMEN</td>\n",
       "      <td>HARTFORD</td>\n",
       "      <td>CT</td>\n",
       "      <td>Med</td>\n",
       "      <td>Mar</td>\n",
       "      <td>19881.00</td>\n",
       "      <td>13254.00</td>\n",
       "      <td>9.0</td>\n",
       "      <td>6.0</td>\n",
       "      <td>1.33</td>\n",
       "      <td>1.17</td>\n",
       "    </tr>\n",
       "    <tr>\n",
       "      <th>4</th>\n",
       "      <td>2397</td>\n",
       "      <td>Account3</td>\n",
       "      <td>East</td>\n",
       "      <td>MINUTEMEN</td>\n",
       "      <td>WORCESTER</td>\n",
       "      <td>MA</td>\n",
       "      <td>Med</td>\n",
       "      <td>Sep</td>\n",
       "      <td>3684.48</td>\n",
       "      <td>0.00</td>\n",
       "      <td>1.0</td>\n",
       "      <td>0.0</td>\n",
       "      <td>1.02</td>\n",
       "      <td>1.53</td>\n",
       "    </tr>\n",
       "  </tbody>\n",
       "</table>\n",
       "</div>"
      ],
      "text/plain": [
       "   AccountId AccountName Region     Division       City State Tier Month  \\\n",
       "0       1116    Account1   West  DIAMONDBACK  PHOENIX W    AZ  Low   Aug   \n",
       "1       1116    Account1   West  DIAMONDBACK  PHOENIX W    AZ  Low   Oct   \n",
       "2       2391    Account2   East    MINUTEMEN   HARTFORD    CT  Med   Jun   \n",
       "3       2391    Account2   East    MINUTEMEN   HARTFORD    CT  Med   Mar   \n",
       "4       2397    Account3   East    MINUTEMEN  WORCESTER    MA  Med   Sep   \n",
       "\n",
       "   Sales2015  Sales2016  Units2015  Units2016  TargetAchevied2015  \\\n",
       "0       0.00   13208.52        0.0        4.0                0.70   \n",
       "1   10500.78   23114.91        3.0        7.0                0.84   \n",
       "2       0.00    6627.00        0.0        3.0                1.15   \n",
       "3   19881.00   13254.00        9.0        6.0                1.33   \n",
       "4    3684.48       0.00        1.0        0.0                1.02   \n",
       "\n",
       "   TargetAchevied2016  \n",
       "0                1.53  \n",
       "1                1.31  \n",
       "2                1.29  \n",
       "3                1.17  \n",
       "4                1.53  "
      ]
     },
     "execution_count": 28,
     "metadata": {},
     "output_type": "execute_result"
    }
   ],
   "source": [
    "Sales_data=pd.read_csv(r\"C:\\Users\\DELL\\Downloads\\SalesData.csv\")\n",
    "Sales_data.head()"
   ]
  },
  {
   "cell_type": "code",
   "execution_count": 29,
   "id": "55dac53e",
   "metadata": {},
   "outputs": [
    {
     "data": {
      "text/plain": [
       "(3709, 14)"
      ]
     },
     "execution_count": 29,
     "metadata": {},
     "output_type": "execute_result"
    }
   ],
   "source": [
    "Sales_data.shape"
   ]
  },
  {
   "cell_type": "code",
   "execution_count": 30,
   "id": "34ed7bab",
   "metadata": {},
   "outputs": [
    {
     "name": "stdout",
     "output_type": "stream",
     "text": [
      "<class 'pandas.core.frame.DataFrame'>\n",
      "RangeIndex: 3709 entries, 0 to 3708\n",
      "Data columns (total 14 columns):\n",
      " #   Column              Non-Null Count  Dtype  \n",
      "---  ------              --------------  -----  \n",
      " 0   AccountId           3709 non-null   int64  \n",
      " 1   AccountName         3709 non-null   object \n",
      " 2   Region              3709 non-null   object \n",
      " 3   Division            3709 non-null   object \n",
      " 4   City                3709 non-null   object \n",
      " 5   State               3709 non-null   object \n",
      " 6   Tier                3709 non-null   object \n",
      " 7   Month               3709 non-null   object \n",
      " 8   Sales2015           3709 non-null   float64\n",
      " 9   Sales2016           3709 non-null   float64\n",
      " 10  Units2015           3709 non-null   float64\n",
      " 11  Units2016           3709 non-null   float64\n",
      " 12  TargetAchevied2015  3709 non-null   float64\n",
      " 13  TargetAchevied2016  3709 non-null   float64\n",
      "dtypes: float64(6), int64(1), object(7)\n",
      "memory usage: 405.8+ KB\n"
     ]
    }
   ],
   "source": [
    "Sales_data.info()"
   ]
  },
  {
   "cell_type": "code",
   "execution_count": 31,
   "id": "17ace153",
   "metadata": {},
   "outputs": [
    {
     "data": {
      "text/plain": [
       "AccountId             0\n",
       "AccountName           0\n",
       "Region                0\n",
       "Division              0\n",
       "City                  0\n",
       "State                 0\n",
       "Tier                  0\n",
       "Month                 0\n",
       "Sales2015             0\n",
       "Sales2016             0\n",
       "Units2015             0\n",
       "Units2016             0\n",
       "TargetAchevied2015    0\n",
       "TargetAchevied2016    0\n",
       "dtype: int64"
      ]
     },
     "execution_count": 31,
     "metadata": {},
     "output_type": "execute_result"
    }
   ],
   "source": [
    "Sales_data.isnull().sum()"
   ]
  },
  {
   "cell_type": "code",
   "execution_count": 32,
   "id": "74b14583",
   "metadata": {},
   "outputs": [
    {
     "data": {
      "text/plain": [
       "0"
      ]
     },
     "execution_count": 32,
     "metadata": {},
     "output_type": "execute_result"
    }
   ],
   "source": [
    "Sales_data.duplicated().sum()"
   ]
  },
  {
   "cell_type": "raw",
   "id": "95cc0f58",
   "metadata": {},
   "source": [
    "1. Compare Sales by region for 2016 with 2015 using bar chart"
   ]
  },
  {
   "cell_type": "code",
   "execution_count": 33,
   "id": "453cce74",
   "metadata": {},
   "outputs": [
    {
     "data": {
      "text/html": [
       "<div>\n",
       "<style scoped>\n",
       "    .dataframe tbody tr th:only-of-type {\n",
       "        vertical-align: middle;\n",
       "    }\n",
       "\n",
       "    .dataframe tbody tr th {\n",
       "        vertical-align: top;\n",
       "    }\n",
       "\n",
       "    .dataframe thead th {\n",
       "        text-align: right;\n",
       "    }\n",
       "</style>\n",
       "<table border=\"1\" class=\"dataframe\">\n",
       "  <thead>\n",
       "    <tr style=\"text-align: right;\">\n",
       "      <th></th>\n",
       "      <th>Sales2015</th>\n",
       "      <th>Sales2016</th>\n",
       "    </tr>\n",
       "    <tr>\n",
       "      <th>Region</th>\n",
       "      <th></th>\n",
       "      <th></th>\n",
       "    </tr>\n",
       "  </thead>\n",
       "  <tbody>\n",
       "    <tr>\n",
       "      <th>Central</th>\n",
       "      <td>7.891729e+06</td>\n",
       "      <td>9.787809e+06</td>\n",
       "    </tr>\n",
       "    <tr>\n",
       "      <th>East</th>\n",
       "      <td>9.512916e+06</td>\n",
       "      <td>1.266723e+07</td>\n",
       "    </tr>\n",
       "    <tr>\n",
       "      <th>West</th>\n",
       "      <td>5.349745e+06</td>\n",
       "      <td>7.209689e+06</td>\n",
       "    </tr>\n",
       "  </tbody>\n",
       "</table>\n",
       "</div>"
      ],
      "text/plain": [
       "            Sales2015     Sales2016\n",
       "Region                             \n",
       "Central  7.891729e+06  9.787809e+06\n",
       "East     9.512916e+06  1.266723e+07\n",
       "West     5.349745e+06  7.209689e+06"
      ]
     },
     "execution_count": 33,
     "metadata": {},
     "output_type": "execute_result"
    }
   ],
   "source": [
    "compare_sale_2016_2015=Sales_data.groupby('Region')[['Sales2015','Sales2016']].sum()\n",
    "compare_sale_2016_2015"
   ]
  },
  {
   "cell_type": "code",
   "execution_count": 34,
   "id": "0784bb58",
   "metadata": {},
   "outputs": [
    {
     "data": {
      "text/plain": [
       "Text(0, 0.5, 'Region')"
      ]
     },
     "execution_count": 34,
     "metadata": {},
     "output_type": "execute_result"
    },
    {
     "data": {
      "image/png": "[encoded data removed]",
      "text/plain": [
       "<Figure size 432x288 with 1 Axes>"
      ]
     },
     "metadata": {
      "needs_background": "light"
     },
     "output_type": "display_data"
    }
   ],
   "source": [
    "compare_sale_2016_2015.plot(kind='bar')\n",
    "plt.ylabel('Region')"
   ]
  },
  {
   "cell_type": "raw",
   "id": "de58fc2f",
   "metadata": {},
   "source": [
    "2. What are the contributing factors to the sales for each region in 2016. Visualize it using a\n",
    "Pie Chart."
   ]
  },
  {
   "cell_type": "code",
   "execution_count": 35,
   "id": "3f351c0a",
   "metadata": {},
   "outputs": [
    {
     "data": {
      "text/html": [
       "<div>\n",
       "<style scoped>\n",
       "    .dataframe tbody tr th:only-of-type {\n",
       "        vertical-align: middle;\n",
       "    }\n",
       "\n",
       "    .dataframe tbody tr th {\n",
       "        vertical-align: top;\n",
       "    }\n",
       "\n",
       "    .dataframe thead th {\n",
       "        text-align: right;\n",
       "    }\n",
       "</style>\n",
       "<table border=\"1\" class=\"dataframe\">\n",
       "  <thead>\n",
       "    <tr style=\"text-align: right;\">\n",
       "      <th></th>\n",
       "      <th>Sales2016</th>\n",
       "    </tr>\n",
       "    <tr>\n",
       "      <th>Region</th>\n",
       "      <th></th>\n",
       "    </tr>\n",
       "  </thead>\n",
       "  <tbody>\n",
       "    <tr>\n",
       "      <th>Central</th>\n",
       "      <td>9.787809e+06</td>\n",
       "    </tr>\n",
       "    <tr>\n",
       "      <th>East</th>\n",
       "      <td>1.266723e+07</td>\n",
       "    </tr>\n",
       "    <tr>\n",
       "      <th>West</th>\n",
       "      <td>7.209689e+06</td>\n",
       "    </tr>\n",
       "  </tbody>\n",
       "</table>\n",
       "</div>"
      ],
      "text/plain": [
       "            Sales2016\n",
       "Region               \n",
       "Central  9.787809e+06\n",
       "East     1.266723e+07\n",
       "West     7.209689e+06"
      ]
     },
     "execution_count": 35,
     "metadata": {},
     "output_type": "execute_result"
    }
   ],
   "source": [
    "sale_2016=Sales_data.groupby('Region')[['Sales2016']].sum()\n",
    "sale_2016"
   ]
  },
  {
   "cell_type": "code",
   "execution_count": 36,
   "id": "be61c5c1",
   "metadata": {},
   "outputs": [
    {
     "data": {
      "text/plain": [
       "array([<AxesSubplot:ylabel='Sales2016'>], dtype=object)"
      ]
     },
     "execution_count": 36,
     "metadata": {},
     "output_type": "execute_result"
    },
    {
     "data": {
      "image/png": "[encoded data removed]",
      "text/plain": [
       "<Figure size 432x288 with 1 Axes>"
      ]
     },
     "metadata": {},
     "output_type": "display_data"
    }
   ],
   "source": [
    "sale_2016.plot(kind='pie',subplots=True,autopct='%1.0f%%')"
   ]
  },
  {
   "cell_type": "raw",
   "id": "f19b561f",
   "metadata": {},
   "source": [
    "3. Compare the total sales of 2015 and 2016 with respect to Region and Tiers"
   ]
  },
  {
   "cell_type": "code",
   "execution_count": 37,
   "id": "7965f6e5",
   "metadata": {},
   "outputs": [
    {
     "data": {
      "text/html": [
       "<div>\n",
       "<style scoped>\n",
       "    .dataframe tbody tr th:only-of-type {\n",
       "        vertical-align: middle;\n",
       "    }\n",
       "\n",
       "    .dataframe tbody tr th {\n",
       "        vertical-align: top;\n",
       "    }\n",
       "\n",
       "    .dataframe thead th {\n",
       "        text-align: right;\n",
       "    }\n",
       "</style>\n",
       "<table border=\"1\" class=\"dataframe\">\n",
       "  <thead>\n",
       "    <tr style=\"text-align: right;\">\n",
       "      <th></th>\n",
       "      <th></th>\n",
       "      <th>Sales2015</th>\n",
       "      <th>Sales2016</th>\n",
       "    </tr>\n",
       "    <tr>\n",
       "      <th>Region</th>\n",
       "      <th>Tier</th>\n",
       "      <th></th>\n",
       "      <th></th>\n",
       "    </tr>\n",
       "  </thead>\n",
       "  <tbody>\n",
       "    <tr>\n",
       "      <th rowspan=\"4\" valign=\"top\">Central</th>\n",
       "      <th>High</th>\n",
       "      <td>4.798698e+06</td>\n",
       "      <td>6.026043e+06</td>\n",
       "    </tr>\n",
       "    <tr>\n",
       "      <th>Low</th>\n",
       "      <td>9.434397e+05</td>\n",
       "      <td>1.132833e+06</td>\n",
       "    </tr>\n",
       "    <tr>\n",
       "      <th>Med</th>\n",
       "      <td>2.068226e+06</td>\n",
       "      <td>2.632181e+06</td>\n",
       "    </tr>\n",
       "    <tr>\n",
       "      <th>Out</th>\n",
       "      <td>8.136489e+04</td>\n",
       "      <td>-3.248530e+03</td>\n",
       "    </tr>\n",
       "    <tr>\n",
       "      <th rowspan=\"4\" valign=\"top\">East</th>\n",
       "      <th>High</th>\n",
       "      <td>6.102946e+06</td>\n",
       "      <td>7.817151e+06</td>\n",
       "    </tr>\n",
       "    <tr>\n",
       "      <th>Low</th>\n",
       "      <td>9.016658e+05</td>\n",
       "      <td>1.144930e+06</td>\n",
       "    </tr>\n",
       "    <tr>\n",
       "      <th>Med</th>\n",
       "      <td>2.470998e+06</td>\n",
       "      <td>3.705150e+06</td>\n",
       "    </tr>\n",
       "    <tr>\n",
       "      <th>Out</th>\n",
       "      <td>3.730655e+04</td>\n",
       "      <td>0.000000e+00</td>\n",
       "    </tr>\n",
       "    <tr>\n",
       "      <th rowspan=\"4\" valign=\"top\">West</th>\n",
       "      <th>High</th>\n",
       "      <td>2.944789e+06</td>\n",
       "      <td>3.768038e+06</td>\n",
       "    </tr>\n",
       "    <tr>\n",
       "      <th>Low</th>\n",
       "      <td>6.710644e+05</td>\n",
       "      <td>1.099502e+06</td>\n",
       "    </tr>\n",
       "    <tr>\n",
       "      <th>Med</th>\n",
       "      <td>1.718476e+06</td>\n",
       "      <td>2.342149e+06</td>\n",
       "    </tr>\n",
       "    <tr>\n",
       "      <th>Out</th>\n",
       "      <td>1.541508e+04</td>\n",
       "      <td>0.000000e+00</td>\n",
       "    </tr>\n",
       "  </tbody>\n",
       "</table>\n",
       "</div>"
      ],
      "text/plain": [
       "                 Sales2015     Sales2016\n",
       "Region  Tier                            \n",
       "Central High  4.798698e+06  6.026043e+06\n",
       "        Low   9.434397e+05  1.132833e+06\n",
       "        Med   2.068226e+06  2.632181e+06\n",
       "        Out   8.136489e+04 -3.248530e+03\n",
       "East    High  6.102946e+06  7.817151e+06\n",
       "        Low   9.016658e+05  1.144930e+06\n",
       "        Med   2.470998e+06  3.705150e+06\n",
       "        Out   3.730655e+04  0.000000e+00\n",
       "West    High  2.944789e+06  3.768038e+06\n",
       "        Low   6.710644e+05  1.099502e+06\n",
       "        Med   1.718476e+06  2.342149e+06\n",
       "        Out   1.541508e+04  0.000000e+00"
      ]
     },
     "execution_count": 37,
     "metadata": {},
     "output_type": "execute_result"
    }
   ],
   "source": [
    "total_sale_2016_2015=Sales_data.groupby(['Region','Tier'])[['Sales2015','Sales2016']].sum()\n",
    "total_sale_2016_2015"
   ]
  },
  {
   "cell_type": "code",
   "execution_count": 38,
   "id": "56036ef3",
   "metadata": {},
   "outputs": [
    {
     "data": {
      "text/plain": [
       "Text(0, 0.5, 'total_sale')"
      ]
     },
     "execution_count": 38,
     "metadata": {},
     "output_type": "execute_result"
    },
    {
     "data": {
      "image/png": "[encoded data removed]",
      "text/plain": [
       "<Figure size 432x288 with 1 Axes>"
      ]
     },
     "metadata": {
      "needs_background": "light"
     },
     "output_type": "display_data"
    }
   ],
   "source": [
    "total_sale_2016_2015.plot(kind='bar')\n",
    "plt.ylabel('total_sale')"
   ]
  },
  {
   "cell_type": "raw",
   "id": "03623172",
   "metadata": {},
   "source": [
    "4. In East region, which state registered a decline in 2016 as compared to 2015?"
   ]
  },
  {
   "cell_type": "code",
   "execution_count": 39,
   "id": "43fbb320",
   "metadata": {},
   "outputs": [
    {
     "name": "stderr",
     "output_type": "stream",
     "text": [
      "C:\\Users\\DELL\\AppData\\Local\\Temp/ipykernel_4304/2100328907.py:1: FutureWarning: Indexing with multiple keys (implicitly converted to a tuple of keys) will be deprecated, use a list instead.\n",
      "  east_data=Sales_data[Sales_data.Region=='East'].groupby('State')['Sales2015','Sales2016'].sum()\n"
     ]
    },
    {
     "data": {
      "text/html": [
       "<div>\n",
       "<style scoped>\n",
       "    .dataframe tbody tr th:only-of-type {\n",
       "        vertical-align: middle;\n",
       "    }\n",
       "\n",
       "    .dataframe tbody tr th {\n",
       "        vertical-align: top;\n",
       "    }\n",
       "\n",
       "    .dataframe thead th {\n",
       "        text-align: right;\n",
       "    }\n",
       "</style>\n",
       "<table border=\"1\" class=\"dataframe\">\n",
       "  <thead>\n",
       "    <tr style=\"text-align: right;\">\n",
       "      <th></th>\n",
       "      <th>Sales2015</th>\n",
       "      <th>Sales2016</th>\n",
       "    </tr>\n",
       "    <tr>\n",
       "      <th>State</th>\n",
       "      <th></th>\n",
       "      <th></th>\n",
       "    </tr>\n",
       "  </thead>\n",
       "  <tbody>\n",
       "    <tr>\n",
       "      <th>CT</th>\n",
       "      <td>197202.790</td>\n",
       "      <td>323502.31</td>\n",
       "    </tr>\n",
       "    <tr>\n",
       "      <th>DC</th>\n",
       "      <td>216723.950</td>\n",
       "      <td>257421.69</td>\n",
       "    </tr>\n",
       "    <tr>\n",
       "      <th>FL</th>\n",
       "      <td>1660162.000</td>\n",
       "      <td>2508232.28</td>\n",
       "    </tr>\n",
       "    <tr>\n",
       "      <th>GA</th>\n",
       "      <td>681546.460</td>\n",
       "      <td>946919.77</td>\n",
       "    </tr>\n",
       "    <tr>\n",
       "      <th>MA</th>\n",
       "      <td>419278.750</td>\n",
       "      <td>687096.45</td>\n",
       "    </tr>\n",
       "    <tr>\n",
       "      <th>MD</th>\n",
       "      <td>527309.060</td>\n",
       "      <td>750008.79</td>\n",
       "    </tr>\n",
       "    <tr>\n",
       "      <th>ME</th>\n",
       "      <td>77425.640</td>\n",
       "      <td>183673.05</td>\n",
       "    </tr>\n",
       "    <tr>\n",
       "      <th>NC</th>\n",
       "      <td>1292801.640</td>\n",
       "      <td>1610521.00</td>\n",
       "    </tr>\n",
       "    <tr>\n",
       "      <th>NH</th>\n",
       "      <td>136419.380</td>\n",
       "      <td>144717.51</td>\n",
       "    </tr>\n",
       "    <tr>\n",
       "      <th>NJ</th>\n",
       "      <td>520419.290</td>\n",
       "      <td>782289.19</td>\n",
       "    </tr>\n",
       "    <tr>\n",
       "      <th>NY</th>\n",
       "      <td>1725415.065</td>\n",
       "      <td>1703135.80</td>\n",
       "    </tr>\n",
       "    <tr>\n",
       "      <th>PA</th>\n",
       "      <td>785092.755</td>\n",
       "      <td>894319.49</td>\n",
       "    </tr>\n",
       "    <tr>\n",
       "      <th>RI</th>\n",
       "      <td>156311.800</td>\n",
       "      <td>162454.65</td>\n",
       "    </tr>\n",
       "    <tr>\n",
       "      <th>SC</th>\n",
       "      <td>247811.780</td>\n",
       "      <td>463414.12</td>\n",
       "    </tr>\n",
       "    <tr>\n",
       "      <th>TN</th>\n",
       "      <td>49677.000</td>\n",
       "      <td>70109.41</td>\n",
       "    </tr>\n",
       "    <tr>\n",
       "      <th>VA</th>\n",
       "      <td>819319.130</td>\n",
       "      <td>1179414.94</td>\n",
       "    </tr>\n",
       "  </tbody>\n",
       "</table>\n",
       "</div>"
      ],
      "text/plain": [
       "         Sales2015   Sales2016\n",
       "State                         \n",
       "CT      197202.790   323502.31\n",
       "DC      216723.950   257421.69\n",
       "FL     1660162.000  2508232.28\n",
       "GA      681546.460   946919.77\n",
       "MA      419278.750   687096.45\n",
       "MD      527309.060   750008.79\n",
       "ME       77425.640   183673.05\n",
       "NC     1292801.640  1610521.00\n",
       "NH      136419.380   144717.51\n",
       "NJ      520419.290   782289.19\n",
       "NY     1725415.065  1703135.80\n",
       "PA      785092.755   894319.49\n",
       "RI      156311.800   162454.65\n",
       "SC      247811.780   463414.12\n",
       "TN       49677.000    70109.41\n",
       "VA      819319.130  1179414.94"
      ]
     },
     "execution_count": 39,
     "metadata": {},
     "output_type": "execute_result"
    }
   ],
   "source": [
    "east_data=Sales_data[Sales_data.Region=='East'].groupby('State')['Sales2015','Sales2016'].sum()\n",
    "east_data"
   ]
  },
  {
   "cell_type": "code",
   "execution_count": 40,
   "id": "840624f4",
   "metadata": {},
   "outputs": [
    {
     "data": {
      "text/plain": [
       "Text(0, 0.5, 'sales')"
      ]
     },
     "execution_count": 40,
     "metadata": {},
     "output_type": "execute_result"
    },
    {
     "data": {
      "image/png": "[encoded data removed]",
      "text/plain": [
       "<Figure size 432x288 with 1 Axes>"
      ]
     },
     "metadata": {
      "needs_background": "light"
     },
     "output_type": "display_data"
    }
   ],
   "source": [
    "east_data.plot(kind='bar')\n",
    "plt.ylabel('sales')"
   ]
  },
  {
   "cell_type": "code",
   "execution_count": 41,
   "id": "3b9a0b85",
   "metadata": {},
   "outputs": [
    {
     "name": "stdout",
     "output_type": "stream",
     "text": [
      "In East region,NY state registered a decline in 2016 as compared to 2015? \n"
     ]
    }
   ],
   "source": [
    "print('In East region,NY state registered a decline in 2016 as compared to 2015? ')"
   ]
  },
  {
   "cell_type": "raw",
   "id": "495da165",
   "metadata": {},
   "source": [
    "5. In all the High tier, which Division saw a decline in number of units sold in 2016 compared\n",
    "to 2015?"
   ]
  },
  {
   "cell_type": "code",
   "execution_count": 42,
   "id": "0c36d216",
   "metadata": {},
   "outputs": [
    {
     "name": "stderr",
     "output_type": "stream",
     "text": [
      "C:\\Users\\DELL\\AppData\\Local\\Temp/ipykernel_4304/3442472582.py:1: FutureWarning: Indexing with multiple keys (implicitly converted to a tuple of keys) will be deprecated, use a list instead.\n",
      "  High_tier=Sales_data[Sales_data.Tier=='High'].groupby('Division')['Units2015','Units2016'].sum()\n"
     ]
    },
    {
     "data": {
      "text/html": [
       "<div>\n",
       "<style scoped>\n",
       "    .dataframe tbody tr th:only-of-type {\n",
       "        vertical-align: middle;\n",
       "    }\n",
       "\n",
       "    .dataframe tbody tr th {\n",
       "        vertical-align: top;\n",
       "    }\n",
       "\n",
       "    .dataframe thead th {\n",
       "        text-align: right;\n",
       "    }\n",
       "</style>\n",
       "<table border=\"1\" class=\"dataframe\">\n",
       "  <thead>\n",
       "    <tr style=\"text-align: right;\">\n",
       "      <th></th>\n",
       "      <th>Units2015</th>\n",
       "      <th>Units2016</th>\n",
       "    </tr>\n",
       "    <tr>\n",
       "      <th>Division</th>\n",
       "      <th></th>\n",
       "      <th></th>\n",
       "    </tr>\n",
       "  </thead>\n",
       "  <tbody>\n",
       "    <tr>\n",
       "      <th>BIG APPLE</th>\n",
       "      <td>180.8330</td>\n",
       "      <td>231.0000</td>\n",
       "    </tr>\n",
       "    <tr>\n",
       "      <th>CHARGERS</th>\n",
       "      <td>123.6666</td>\n",
       "      <td>164.4999</td>\n",
       "    </tr>\n",
       "    <tr>\n",
       "      <th>CONGRESSIONAL</th>\n",
       "      <td>164.5003</td>\n",
       "      <td>205.0000</td>\n",
       "    </tr>\n",
       "    <tr>\n",
       "      <th>DIAMONDBACK</th>\n",
       "      <td>153.3334</td>\n",
       "      <td>176.6667</td>\n",
       "    </tr>\n",
       "    <tr>\n",
       "      <th>EMPIRE</th>\n",
       "      <td>414.3332</td>\n",
       "      <td>449.3332</td>\n",
       "    </tr>\n",
       "    <tr>\n",
       "      <th>GRIDIRON</th>\n",
       "      <td>213.6673</td>\n",
       "      <td>246.1675</td>\n",
       "    </tr>\n",
       "    <tr>\n",
       "      <th>GULF STREAM</th>\n",
       "      <td>185.0000</td>\n",
       "      <td>301.0009</td>\n",
       "    </tr>\n",
       "    <tr>\n",
       "      <th>HAILSTORM</th>\n",
       "      <td>187.8338</td>\n",
       "      <td>247.0003</td>\n",
       "    </tr>\n",
       "    <tr>\n",
       "      <th>KINETIC</th>\n",
       "      <td>214.3334</td>\n",
       "      <td>244.5001</td>\n",
       "    </tr>\n",
       "    <tr>\n",
       "      <th>MINUTEMEN</th>\n",
       "      <td>215.0000</td>\n",
       "      <td>267.5000</td>\n",
       "    </tr>\n",
       "    <tr>\n",
       "      <th>MUDDY WATERS</th>\n",
       "      <td>150.6666</td>\n",
       "      <td>211.5004</td>\n",
       "    </tr>\n",
       "    <tr>\n",
       "      <th>NORDIC</th>\n",
       "      <td>210.1675</td>\n",
       "      <td>225.8334</td>\n",
       "    </tr>\n",
       "    <tr>\n",
       "      <th>NORTHWEST</th>\n",
       "      <td>135.5008</td>\n",
       "      <td>163.6669</td>\n",
       "    </tr>\n",
       "    <tr>\n",
       "      <th>ORION</th>\n",
       "      <td>175.8334</td>\n",
       "      <td>276.0000</td>\n",
       "    </tr>\n",
       "    <tr>\n",
       "      <th>RACEWAY</th>\n",
       "      <td>178.3338</td>\n",
       "      <td>297.0000</td>\n",
       "    </tr>\n",
       "    <tr>\n",
       "      <th>REVOLUTION</th>\n",
       "      <td>205.8335</td>\n",
       "      <td>226.8334</td>\n",
       "    </tr>\n",
       "    <tr>\n",
       "      <th>RIPTIDE</th>\n",
       "      <td>147.5002</td>\n",
       "      <td>183.8336</td>\n",
       "    </tr>\n",
       "    <tr>\n",
       "      <th>SOUTHERN STAR</th>\n",
       "      <td>230.0000</td>\n",
       "      <td>274.1665</td>\n",
       "    </tr>\n",
       "    <tr>\n",
       "      <th>STAMPEDE</th>\n",
       "      <td>192.4999</td>\n",
       "      <td>246.8333</td>\n",
       "    </tr>\n",
       "    <tr>\n",
       "      <th>SYNERGY</th>\n",
       "      <td>322.6666</td>\n",
       "      <td>428.3334</td>\n",
       "    </tr>\n",
       "    <tr>\n",
       "      <th>THE CAROLINAS</th>\n",
       "      <td>258.8335</td>\n",
       "      <td>345.0000</td>\n",
       "    </tr>\n",
       "    <tr>\n",
       "      <th>TORNADO VALLEY</th>\n",
       "      <td>128.3331</td>\n",
       "      <td>181.0004</td>\n",
       "    </tr>\n",
       "    <tr>\n",
       "      <th>VICTORY</th>\n",
       "      <td>174.5005</td>\n",
       "      <td>221.1669</td>\n",
       "    </tr>\n",
       "    <tr>\n",
       "      <th>WAVE RIDER</th>\n",
       "      <td>173.4996</td>\n",
       "      <td>223.3332</td>\n",
       "    </tr>\n",
       "    <tr>\n",
       "      <th>WOLVERINE</th>\n",
       "      <td>122.0002</td>\n",
       "      <td>143.0000</td>\n",
       "    </tr>\n",
       "    <tr>\n",
       "      <th>WRANGLER</th>\n",
       "      <td>206.1666</td>\n",
       "      <td>259.6666</td>\n",
       "    </tr>\n",
       "  </tbody>\n",
       "</table>\n",
       "</div>"
      ],
      "text/plain": [
       "                Units2015  Units2016\n",
       "Division                            \n",
       "BIG APPLE        180.8330   231.0000\n",
       "CHARGERS         123.6666   164.4999\n",
       "CONGRESSIONAL    164.5003   205.0000\n",
       "DIAMONDBACK      153.3334   176.6667\n",
       "EMPIRE           414.3332   449.3332\n",
       "GRIDIRON         213.6673   246.1675\n",
       "GULF STREAM      185.0000   301.0009\n",
       "HAILSTORM        187.8338   247.0003\n",
       "KINETIC          214.3334   244.5001\n",
       "MINUTEMEN        215.0000   267.5000\n",
       "MUDDY WATERS     150.6666   211.5004\n",
       "NORDIC           210.1675   225.8334\n",
       "NORTHWEST        135.5008   163.6669\n",
       "ORION            175.8334   276.0000\n",
       "RACEWAY          178.3338   297.0000\n",
       "REVOLUTION       205.8335   226.8334\n",
       "RIPTIDE          147.5002   183.8336\n",
       "SOUTHERN STAR    230.0000   274.1665\n",
       "STAMPEDE         192.4999   246.8333\n",
       "SYNERGY          322.6666   428.3334\n",
       "THE CAROLINAS    258.8335   345.0000\n",
       "TORNADO VALLEY   128.3331   181.0004\n",
       "VICTORY          174.5005   221.1669\n",
       "WAVE RIDER       173.4996   223.3332\n",
       "WOLVERINE        122.0002   143.0000\n",
       "WRANGLER         206.1666   259.6666"
      ]
     },
     "execution_count": 42,
     "metadata": {},
     "output_type": "execute_result"
    }
   ],
   "source": [
    "High_tier=Sales_data[Sales_data.Tier=='High'].groupby('Division')['Units2015','Units2016'].sum()\n",
    "High_tier"
   ]
  },
  {
   "cell_type": "code",
   "execution_count": 43,
   "id": "4250693e",
   "metadata": {},
   "outputs": [
    {
     "data": {
      "text/plain": [
       "<AxesSubplot:xlabel='Division'>"
      ]
     },
     "execution_count": 43,
     "metadata": {},
     "output_type": "execute_result"
    },
    {
     "data": {
      "image/png": "[encoded data removed]",
      "text/plain": [
       "<Figure size 720x504 with 1 Axes>"
      ]
     },
     "metadata": {
      "needs_background": "light"
     },
     "output_type": "display_data"
    }
   ],
   "source": [
    "High_tier.plot(kind='bar',figsize=(10,7))"
   ]
  },
  {
   "cell_type": "code",
   "execution_count": 44,
   "id": "c623cc8c",
   "metadata": {},
   "outputs": [
    {
     "name": "stdout",
     "output_type": "stream",
     "text": [
      "In all the High tier, no Division saw a decline in number of units sold in 2016 compared to 2015\n"
     ]
    }
   ],
   "source": [
    "print('In all the High tier, no Division saw a decline in number of units sold in 2016 compared to 2015')"
   ]
  },
  {
   "cell_type": "raw",
   "id": "dcb2d2ba",
   "metadata": {},
   "source": [
    "6. Create a new column Qtr using numpy.where() or any suitable utility in the imported\n",
    "dataset. The Quarters are based on months and defined as -\n",
    "• Jan - Mar : Q1\n",
    "• Apr - Jun : Q2\n",
    "• Jul - Sep : Q3\n",
    "• Oct - Dec : Q4 "
   ]
  },
  {
   "cell_type": "code",
   "execution_count": 46,
   "id": "8b76050d",
   "metadata": {},
   "outputs": [],
   "source": [
    "quater=[]\n",
    "for x in Sales_data['Month']:\n",
    "    if x in ['Jan','Feb','Mar']:\n",
    "        quater.append('Q1')\n",
    "    elif x in ['Apr','May','Jun']:\n",
    "        quater.append('Q2')\n",
    "    elif x in ['Jul','Aug','Sep']:\n",
    "        quater.append('Q3')\n",
    "    else:\n",
    "        quater.append('Q4')"
   ]
  },
  {
   "cell_type": "code",
   "execution_count": 48,
   "id": "2a52510d",
   "metadata": {},
   "outputs": [],
   "source": [
    "Sales_data['Qtr']=pd.Series(quater)"
   ]
  },
  {
   "cell_type": "code",
   "execution_count": 49,
   "id": "f9cfbfac",
   "metadata": {},
   "outputs": [
    {
     "data": {
      "text/html": [
       "<div>\n",
       "<style scoped>\n",
       "    .dataframe tbody tr th:only-of-type {\n",
       "        vertical-align: middle;\n",
       "    }\n",
       "\n",
       "    .dataframe tbody tr th {\n",
       "        vertical-align: top;\n",
       "    }\n",
       "\n",
       "    .dataframe thead th {\n",
       "        text-align: right;\n",
       "    }\n",
       "</style>\n",
       "<table border=\"1\" class=\"dataframe\">\n",
       "  <thead>\n",
       "    <tr style=\"text-align: right;\">\n",
       "      <th></th>\n",
       "      <th>AccountId</th>\n",
       "      <th>AccountName</th>\n",
       "      <th>Region</th>\n",
       "      <th>Division</th>\n",
       "      <th>City</th>\n",
       "      <th>State</th>\n",
       "      <th>Tier</th>\n",
       "      <th>Month</th>\n",
       "      <th>Sales2015</th>\n",
       "      <th>Sales2016</th>\n",
       "      <th>Units2015</th>\n",
       "      <th>Units2016</th>\n",
       "      <th>TargetAchevied2015</th>\n",
       "      <th>TargetAchevied2016</th>\n",
       "      <th>Qtr</th>\n",
       "    </tr>\n",
       "  </thead>\n",
       "  <tbody>\n",
       "    <tr>\n",
       "      <th>0</th>\n",
       "      <td>1116</td>\n",
       "      <td>Account1</td>\n",
       "      <td>West</td>\n",
       "      <td>DIAMONDBACK</td>\n",
       "      <td>PHOENIX W</td>\n",
       "      <td>AZ</td>\n",
       "      <td>Low</td>\n",
       "      <td>Aug</td>\n",
       "      <td>0.00</td>\n",
       "      <td>13208.52</td>\n",
       "      <td>0.0</td>\n",
       "      <td>4.0</td>\n",
       "      <td>0.70</td>\n",
       "      <td>1.53</td>\n",
       "      <td>Q3</td>\n",
       "    </tr>\n",
       "    <tr>\n",
       "      <th>1</th>\n",
       "      <td>1116</td>\n",
       "      <td>Account1</td>\n",
       "      <td>West</td>\n",
       "      <td>DIAMONDBACK</td>\n",
       "      <td>PHOENIX W</td>\n",
       "      <td>AZ</td>\n",
       "      <td>Low</td>\n",
       "      <td>Oct</td>\n",
       "      <td>10500.78</td>\n",
       "      <td>23114.91</td>\n",
       "      <td>3.0</td>\n",
       "      <td>7.0</td>\n",
       "      <td>0.84</td>\n",
       "      <td>1.31</td>\n",
       "      <td>Q4</td>\n",
       "    </tr>\n",
       "    <tr>\n",
       "      <th>2</th>\n",
       "      <td>2391</td>\n",
       "      <td>Account2</td>\n",
       "      <td>East</td>\n",
       "      <td>MINUTEMEN</td>\n",
       "      <td>HARTFORD</td>\n",
       "      <td>CT</td>\n",
       "      <td>Med</td>\n",
       "      <td>Jun</td>\n",
       "      <td>0.00</td>\n",
       "      <td>6627.00</td>\n",
       "      <td>0.0</td>\n",
       "      <td>3.0</td>\n",
       "      <td>1.15</td>\n",
       "      <td>1.29</td>\n",
       "      <td>Q2</td>\n",
       "    </tr>\n",
       "    <tr>\n",
       "      <th>3</th>\n",
       "      <td>2391</td>\n",
       "      <td>Account2</td>\n",
       "      <td>East</td>\n",
       "      <td>MINUTEMEN</td>\n",
       "      <td>HARTFORD</td>\n",
       "      <td>CT</td>\n",
       "      <td>Med</td>\n",
       "      <td>Mar</td>\n",
       "      <td>19881.00</td>\n",
       "      <td>13254.00</td>\n",
       "      <td>9.0</td>\n",
       "      <td>6.0</td>\n",
       "      <td>1.33</td>\n",
       "      <td>1.17</td>\n",
       "      <td>Q1</td>\n",
       "    </tr>\n",
       "    <tr>\n",
       "      <th>4</th>\n",
       "      <td>2397</td>\n",
       "      <td>Account3</td>\n",
       "      <td>East</td>\n",
       "      <td>MINUTEMEN</td>\n",
       "      <td>WORCESTER</td>\n",
       "      <td>MA</td>\n",
       "      <td>Med</td>\n",
       "      <td>Sep</td>\n",
       "      <td>3684.48</td>\n",
       "      <td>0.00</td>\n",
       "      <td>1.0</td>\n",
       "      <td>0.0</td>\n",
       "      <td>1.02</td>\n",
       "      <td>1.53</td>\n",
       "      <td>Q3</td>\n",
       "    </tr>\n",
       "  </tbody>\n",
       "</table>\n",
       "</div>"
      ],
      "text/plain": [
       "   AccountId AccountName Region     Division       City State Tier Month  \\\n",
       "0       1116    Account1   West  DIAMONDBACK  PHOENIX W    AZ  Low   Aug   \n",
       "1       1116    Account1   West  DIAMONDBACK  PHOENIX W    AZ  Low   Oct   \n",
       "2       2391    Account2   East    MINUTEMEN   HARTFORD    CT  Med   Jun   \n",
       "3       2391    Account2   East    MINUTEMEN   HARTFORD    CT  Med   Mar   \n",
       "4       2397    Account3   East    MINUTEMEN  WORCESTER    MA  Med   Sep   \n",
       "\n",
       "   Sales2015  Sales2016  Units2015  Units2016  TargetAchevied2015  \\\n",
       "0       0.00   13208.52        0.0        4.0                0.70   \n",
       "1   10500.78   23114.91        3.0        7.0                0.84   \n",
       "2       0.00    6627.00        0.0        3.0                1.15   \n",
       "3   19881.00   13254.00        9.0        6.0                1.33   \n",
       "4    3684.48       0.00        1.0        0.0                1.02   \n",
       "\n",
       "   TargetAchevied2016 Qtr  \n",
       "0                1.53  Q3  \n",
       "1                1.31  Q4  \n",
       "2                1.29  Q2  \n",
       "3                1.17  Q1  \n",
       "4                1.53  Q3  "
      ]
     },
     "execution_count": 49,
     "metadata": {},
     "output_type": "execute_result"
    }
   ],
   "source": [
    "Sales_data.head()"
   ]
  },
  {
   "cell_type": "raw",
   "id": "f0ed0337",
   "metadata": {},
   "source": [
    "7. Compare Qtr wise sales in 2015 and 2016 in a bar plot"
   ]
  },
  {
   "cell_type": "code",
   "execution_count": 52,
   "id": "46418732",
   "metadata": {},
   "outputs": [
    {
     "name": "stderr",
     "output_type": "stream",
     "text": [
      "C:\\Users\\DELL\\AppData\\Local\\Temp/ipykernel_4304/2134762031.py:1: FutureWarning: Indexing with multiple keys (implicitly converted to a tuple of keys) will be deprecated, use a list instead.\n",
      "  Comp_qtr=Sales_data.groupby('Qtr')['Sales2015','Sales2016'].sum()\n"
     ]
    },
    {
     "data": {
      "text/html": [
       "<div>\n",
       "<style scoped>\n",
       "    .dataframe tbody tr th:only-of-type {\n",
       "        vertical-align: middle;\n",
       "    }\n",
       "\n",
       "    .dataframe tbody tr th {\n",
       "        vertical-align: top;\n",
       "    }\n",
       "\n",
       "    .dataframe thead th {\n",
       "        text-align: right;\n",
       "    }\n",
       "</style>\n",
       "<table border=\"1\" class=\"dataframe\">\n",
       "  <thead>\n",
       "    <tr style=\"text-align: right;\">\n",
       "      <th></th>\n",
       "      <th>Sales2015</th>\n",
       "      <th>Sales2016</th>\n",
       "    </tr>\n",
       "    <tr>\n",
       "      <th>Qtr</th>\n",
       "      <th></th>\n",
       "      <th></th>\n",
       "    </tr>\n",
       "  </thead>\n",
       "  <tbody>\n",
       "    <tr>\n",
       "      <th>Q1</th>\n",
       "      <td>5.485800e+06</td>\n",
       "      <td>6.997953e+06</td>\n",
       "    </tr>\n",
       "    <tr>\n",
       "      <th>Q2</th>\n",
       "      <td>5.390862e+06</td>\n",
       "      <td>7.237361e+06</td>\n",
       "    </tr>\n",
       "    <tr>\n",
       "      <th>Q3</th>\n",
       "      <td>6.164094e+06</td>\n",
       "      <td>7.861546e+06</td>\n",
       "    </tr>\n",
       "    <tr>\n",
       "      <th>Q4</th>\n",
       "      <td>5.713634e+06</td>\n",
       "      <td>7.567868e+06</td>\n",
       "    </tr>\n",
       "  </tbody>\n",
       "</table>\n",
       "</div>"
      ],
      "text/plain": [
       "        Sales2015     Sales2016\n",
       "Qtr                            \n",
       "Q1   5.485800e+06  6.997953e+06\n",
       "Q2   5.390862e+06  7.237361e+06\n",
       "Q3   6.164094e+06  7.861546e+06\n",
       "Q4   5.713634e+06  7.567868e+06"
      ]
     },
     "execution_count": 52,
     "metadata": {},
     "output_type": "execute_result"
    }
   ],
   "source": [
    "Comp_qtr=Sales_data.groupby('Qtr')['Sales2015','Sales2016'].sum()\n",
    "Comp_qtr"
   ]
  },
  {
   "cell_type": "code",
   "execution_count": 54,
   "id": "aeb71835",
   "metadata": {},
   "outputs": [
    {
     "data": {
      "text/plain": [
       "Text(0, 0.5, 'sales')"
      ]
     },
     "execution_count": 54,
     "metadata": {},
     "output_type": "execute_result"
    },
    {
     "data": {
      "image/png": "[encoded data removed]",
      "text/plain": [
       "<Figure size 432x288 with 1 Axes>"
      ]
     },
     "metadata": {
      "needs_background": "light"
     },
     "output_type": "display_data"
    }
   ],
   "source": [
    "Comp_qtr.plot(kind='bar')\n",
    "plt.ylabel('sales')"
   ]
  },
  {
   "cell_type": "raw",
   "id": "35e15e4f",
   "metadata": {},
   "source": [
    "8. Determine the composition of Qtr wise sales in and 2016 with regards to all the Tiers in a\n",
    "pie chart.\n",
    " (Draw 4 pie charts representing a Quarter for each Tier)"
   ]
  },
  {
   "cell_type": "code",
   "execution_count": 56,
   "id": "833015db",
   "metadata": {},
   "outputs": [
    {
     "data": {
      "text/html": [
       "<div>\n",
       "<style scoped>\n",
       "    .dataframe tbody tr th:only-of-type {\n",
       "        vertical-align: middle;\n",
       "    }\n",
       "\n",
       "    .dataframe tbody tr th {\n",
       "        vertical-align: top;\n",
       "    }\n",
       "\n",
       "    .dataframe thead th {\n",
       "        text-align: right;\n",
       "    }\n",
       "</style>\n",
       "<table border=\"1\" class=\"dataframe\">\n",
       "  <thead>\n",
       "    <tr style=\"text-align: right;\">\n",
       "      <th>Tier</th>\n",
       "      <th>High</th>\n",
       "      <th>Low</th>\n",
       "      <th>Med</th>\n",
       "      <th>Out</th>\n",
       "    </tr>\n",
       "    <tr>\n",
       "      <th>Qtr</th>\n",
       "      <th></th>\n",
       "      <th></th>\n",
       "      <th></th>\n",
       "      <th></th>\n",
       "    </tr>\n",
       "  </thead>\n",
       "  <tbody>\n",
       "    <tr>\n",
       "      <th>Q1</th>\n",
       "      <td>7974.677515</td>\n",
       "      <td>5516.469593</td>\n",
       "      <td>7654.041681</td>\n",
       "      <td>0.000000</td>\n",
       "    </tr>\n",
       "    <tr>\n",
       "      <th>Q2</th>\n",
       "      <td>8752.018136</td>\n",
       "      <td>5031.608757</td>\n",
       "      <td>8758.157542</td>\n",
       "      <td>0.000000</td>\n",
       "    </tr>\n",
       "    <tr>\n",
       "      <th>Q3</th>\n",
       "      <td>9334.404693</td>\n",
       "      <td>5446.422671</td>\n",
       "      <td>8197.976091</td>\n",
       "      <td>-360.947778</td>\n",
       "    </tr>\n",
       "    <tr>\n",
       "      <th>Q4</th>\n",
       "      <td>9386.142545</td>\n",
       "      <td>5052.104694</td>\n",
       "      <td>8307.596804</td>\n",
       "      <td>0.000000</td>\n",
       "    </tr>\n",
       "  </tbody>\n",
       "</table>\n",
       "</div>"
      ],
      "text/plain": [
       "Tier         High          Low          Med         Out\n",
       "Qtr                                                    \n",
       "Q1    7974.677515  5516.469593  7654.041681    0.000000\n",
       "Q2    8752.018136  5031.608757  8758.157542    0.000000\n",
       "Q3    9334.404693  5446.422671  8197.976091 -360.947778\n",
       "Q4    9386.142545  5052.104694  8307.596804    0.000000"
      ]
     },
     "execution_count": 56,
     "metadata": {},
     "output_type": "execute_result"
    }
   ],
   "source": [
    "compostion_qtr=Sales_data.pivot_table(index=['Qtr'],columns=['Tier'],values='Sales2016')\n",
    "compostion_qtr"
   ]
  },
  {
   "cell_type": "code",
   "execution_count": 62,
   "id": "6f9b46a3",
   "metadata": {},
   "outputs": [
    {
     "data": {
      "image/png": "[encoded data removed]",
      "text/plain": [
       "<Figure size 432x288 with 1 Axes>"
      ]
     },
     "metadata": {},
     "output_type": "display_data"
    }
   ],
   "source": [
    "plt.pie(x=compostion_qtr.loc['Q1',:],autopct='%1.0f%%',labels=['High','Low','Med','Out'])\n",
    "plt.show()"
   ]
  },
  {
   "cell_type": "code",
   "execution_count": 63,
   "id": "861b03e9",
   "metadata": {},
   "outputs": [
    {
     "data": {
      "image/png": "[encoded data removed]",
      "text/plain": [
       "<Figure size 432x288 with 1 Axes>"
      ]
     },
     "metadata": {},
     "output_type": "display_data"
    }
   ],
   "source": [
    "plt.pie(x=compostion_qtr.loc['Q2',:],autopct='%1.0f%%',labels=['High','Low','Med','Out'])\n",
    "plt.show()"
   ]
  },
  {
   "cell_type": "raw",
   "id": "f14c0351",
   "metadata": {},
   "source": [
    "plt.pie(x=compostion_qtr.loc['Q3',:],autopct='%1.0f%%',labels=['High','Low','Med','Out'])\n",
    "plt.show()"
   ]
  },
  {
   "cell_type": "code",
   "execution_count": 66,
   "id": "3cf9f313",
   "metadata": {},
   "outputs": [
    {
     "data": {
      "image/png": "[encoded data removed]",
      "text/plain": [
       "<Figure size 432x288 with 1 Axes>"
      ]
     },
     "metadata": {},
     "output_type": "display_data"
    }
   ],
   "source": [
    "plt.pie(x=compostion_qtr.loc['Q4',:],autopct='%1.0f%%',labels=['High','Low','Med','Out'])\n",
    "plt.show()"
   ]
  }
 ],
 "metadata": {
  "kernelspec": {
   "display_name": "Python 3 (ipykernel)",
   "language": "python",
   "name": "python3"
  },
  "language_info": {
   "codemirror_mode": {
    "name": "ipython",
    "version": 3
   },
   "file_extension": ".py",
   "mimetype": "text/x-python",
   "name": "python",
   "nbconvert_exporter": "python",
   "pygments_lexer": "ipython3",
   "version": "3.9.7"
  }
 },
 "nbformat": 4,
 "nbformat_minor": 5
}
